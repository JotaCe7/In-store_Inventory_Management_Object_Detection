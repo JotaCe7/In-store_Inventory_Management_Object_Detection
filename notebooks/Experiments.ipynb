{
 "cells": [
  {
   "attachments": {},
   "cell_type": "markdown",
   "metadata": {},
   "source": [
    "# Product Detection Training"
   ]
  },
  {
   "attachments": {},
   "cell_type": "markdown",
   "metadata": {},
   "source": [
    "## Split Dataset\n",
    "First we need to prepare our dataset, splitting it in train, validation and test set."
   ]
  },
  {
   "cell_type": "code",
   "execution_count": 1,
   "metadata": {},
   "outputs": [
    {
     "name": "stdout",
     "output_type": "stream",
     "text": [
      "Create foler structure for test set\n",
      "100%|███████████████████████████████████████| 2920/2920 [01:09<00:00, 41.81it/s]\n",
      "Create foler structure for val set\n",
      "100%|████████████████████████████████████████| 584/584 [00:04<00:00, 131.79it/s]\n",
      "Create foler structure for train set\n",
      "100%|███████████████████████████████████████| 8185/8185 [08:42<00:00, 15.68it/s]\n"
     ]
    }
   ],
   "source": [
    "!python3 /home/app/src/scripts/split_dataset.py"
   ]
  },
  {
   "attachments": {},
   "cell_type": "markdown",
   "metadata": {},
   "source": [
    "Go to File>Preferences>Settings and set  Output: Text Line Limit value to 500"
   ]
  },
  {
   "attachments": {},
   "cell_type": "markdown",
   "metadata": {},
   "source": [
    "## Train model"
   ]
  },
  {
   "attachments": {},
   "cell_type": "markdown",
   "metadata": {},
   "source": [
    "We will use comet as a visualization tool for our training experiments\n",
    "We need to install comet_ml python library and create an account on [Comet](https://www.comet.com/site/).\n",
    "Then go to [Settings](https://www.comet.com/account-settings/apiKeys)  and copy your api key."
   ]
  },
  {
   "cell_type": "code",
   "execution_count": 2,
   "metadata": {},
   "outputs": [],
   "source": [
    "!pip install -q comet_ml  # 1. install\n",
    "!export COMET_API_KEY=<Your API Key>  # 2. paste API key"
   ]
  },
  {
   "attachments": {},
   "cell_type": "markdown",
   "metadata": {},
   "source": [
    "We also need to create a configuration .yaml file with the following content"
   ]
  },
  {
   "cell_type": "code",
   "execution_count": 3,
   "metadata": {},
   "outputs": [
    {
     "name": "stdout",
     "output_type": "stream",
     "text": [
      "# YOLOv5 🚀 by Ultralytics, GPL-3.0 license\n",
      "# SKU110K Dataset\n",
      "\n",
      "path:   /home/app/src/data/images  # dataset root dir\n",
      "train:  train/            # train images (relative to 'path')\n",
      "val:    val/              # val images (relative to 'path') \n",
      "test:   test/             # test images (optional)\n",
      "\n",
      "# Classes\n",
      "names:\n",
      "  0: product"
     ]
    }
   ],
   "source": [
    "%cat /home/app/src/data/yolo_data_v1.yaml"
   ]
  },
  {
   "cell_type": "code",
   "execution_count": 4,
   "metadata": {},
   "outputs": [
    {
     "name": "stdout",
     "output_type": "stream",
     "text": [
      "Overriding model.yaml nc=80 with nc=1\n",
      "\n",
      "                 from  n    params  module                                  arguments                     \n",
      "  0                -1  1      1760  models.common.Conv                      [3, 16, 6, 2, 2]              \n",
      "  1                -1  1      4672  models.common.Conv                      [16, 32, 3, 2]                \n",
      "  2                -1  1      4800  models.common.C3                        [32, 32, 1]                   \n",
      "  3                -1  1     18560  models.common.Conv                      [32, 64, 3, 2]                \n",
      "  4                -1  2     29184  models.common.C3                        [64, 64, 2]                   \n",
      "  5                -1  1     73984  models.common.Conv                      [64, 128, 3, 2]               \n",
      "  6                -1  3    156928  models.common.C3                        [128, 128, 3]                 \n",
      "  7                -1  1    295424  models.common.Conv                      [128, 256, 3, 2]              \n",
      "  8                -1  1    296448  models.common.C3                        [256, 256, 1]                 \n",
      "  9                -1  1    164608  models.common.SPPF                      [256, 256, 5]                 \n",
      " 10                -1  1     33024  models.common.Conv                      [256, 128, 1, 1]              \n",
      " 11                -1  1         0  torch.nn.modules.upsampling.Upsample    [None, 2, 'nearest']          \n",
      " 12           [-1, 6]  1         0  models.common.Concat                    [1]                           \n",
      " 13                -1  1     90880  models.common.C3                        [256, 128, 1, False]          \n",
      " 14                -1  1      8320  models.common.Conv                      [128, 64, 1, 1]               \n",
      " 15                -1  1         0  torch.nn.modules.upsampling.Upsample    [None, 2, 'nearest']          \n",
      " 16           [-1, 4]  1         0  models.common.Concat                    [1]                           \n",
      " 17                -1  1     22912  models.common.C3                        [128, 64, 1, False]           \n",
      " 18                -1  1     36992  models.common.Conv                      [64, 64, 3, 2]                \n",
      " 19          [-1, 14]  1         0  models.common.Concat                    [1]                           \n",
      " 20                -1  1     74496  models.common.C3                        [128, 128, 1, False]          \n",
      " 21                -1  1    147712  models.common.Conv                      [128, 128, 3, 2]              \n",
      " 22          [-1, 10]  1         0  models.common.Concat                    [1]                           \n",
      " 23                -1  1    296448  models.common.C3                        [256, 256, 1, False]          \n",
      " 24      [17, 20, 23]  1      8118  models.yolo.Detect                      [1, [[10, 13, 16, 30, 33, 23], [30, 61, 62, 45, 59, 119], [116, 90, 156, 198, 373, 326]], [64, 128, 256]]\n",
      "Model summary: 214 layers, 1765270 parameters, 1765270 gradients, 4.2 GFLOPs\n",
      "\n",
      "Transferred 343/349 items from yolov5n.pt\n",
      "\u001b[34m\u001b[1mAMP: \u001b[0mchecks passed ✅\n",
      "\u001b[34m\u001b[1moptimizer:\u001b[0m SGD(lr=0.01) with parameter groups 57 weight(decay=0.0), 60 weight(decay=0.0005), 60 bias\n",
      "\n",
      "\u001b[34m\u001b[1mAutoAnchor: \u001b[0m4.72 anchors/target, 1.000 Best Possible Recall (BPR). Current anchors are a good fit to dataset ✅\n",
      "Plotting labels to /home/app/src/experiments7/labels.jpg... \n",
      "Image sizes 640 train, 640 val\n",
      "Using 4 dataloader workers\n",
      "Logging results to \u001b[1m/home/app/src/experiments7\u001b[0m\n",
      "Starting training for 15 epochs...\n",
      "\n",
      "      Epoch    GPU_mem   box_loss   obj_loss   cls_loss  Instances       Size\n",
      "       0/14      1.87G     0.1333     0.4037          0       3768        640:  ^C\n",
      "       0/14      1.87G     0.1333     0.4037          0       3768        640:  \n",
      "      Epoch    GPU_mem   box_loss   obj_loss   cls_loss  Instances       Size\n",
      "        0/4      7.36G    0.08387     0.5847   0.005871       2264        640: 100%|██████████| 512/512 [29:53<00:00,  3.50s/it]\n",
      "                Class     Images  Instances          P          R      mAP50   mAP50-95: 100%|██████████| 19/19 [00:51<00:00,  2.72s/it]\n",
      "                  all        581      90017       0.82      0.697      0.778      0.401\n",
      "      Epoch    GPU_mem   box_loss   obj_loss   cls_loss  Instances       Size\n",
      "        1/4      8.97G    0.06317     0.5822  0.0008588       2372        640: 100%|██████████| 512/512 [29:42<00:00,  3.48s/it] \n",
      "                Class     Images  Instances          P          R      mAP50   mAP50-95: 100%|██████████| 19/19 [01:19<00:00,  4.18s/it]\n",
      "                  all        581      90017      0.894      0.767      0.846       0.47\n",
      "      Epoch    GPU_mem   box_loss   obj_loss   cls_loss  Instances       Size\n",
      "        2/4      8.97G    0.06005     0.5719  0.0006651       2973        640: 100%|██████████| 512/512 [31:29<00:00,  3.69s/it]\n",
      "                Class     Images  Instances          P          R      mAP50   mAP50-95: 100%|██████████| 19/19 [00:51<00:00,  2.70s/it]\n",
      "                  all        581      90017      0.911      0.762       0.85      0.474\n",
      "      Epoch    GPU_mem   box_loss   obj_loss   cls_loss  Instances       Size\n",
      "        3/4      8.97G    0.05681     0.5557  0.0004779       2258        640: 100%|██████████| 512/512 [32:57<00:00,  3.86s/it]\n",
      "                Class     Images  Instances          P          R      mAP50   mAP50-95: 100%|██████████| 19/19 [01:09<00:00,  3.67s/it]\n",
      "                  all        581      90017      0.919      0.792      0.873      0.522\n",
      "      Epoch    GPU_mem   box_loss   obj_loss   cls_loss  Instances       Size\n",
      "        4/4      8.97G     0.0554     0.5478  0.0003578       2597        640: 100%|██████████| 512/512 [36:14<00:00,  4.25s/it]\n",
      "                Class     Images  Instances          P          R      mAP50   mAP50-95: 100%|██████████| 19/19 [00:52<00:00,  2.77s/it]\n",
      "                  all        581      90017      0.925      0.798      0.877      0.535\n",
      "KeyboardInterrupt\n"
     ]
    }
   ],
   "source": [
    "!python3 /home/app/yolov5/train.py --img 640 --batch 16 --epochs 20 --data /home/app/src/data/yolo_data_v1.yaml --weights yolov5m.pt --project /home/app/src/experiments --name exp"
   ]
  },
  {
   "attachments": {},
   "cell_type": "markdown",
   "metadata": {},
   "source": [
    "Metrics from Validation set\n",
    "![Metrics from Validation set](../resources/exp1graphs.png)"
   ]
  },
  {
   "attachments": {},
   "cell_type": "markdown",
   "metadata": {},
   "source": [
    "# Product and Missing Product Training "
   ]
  },
  {
   "attachments": {},
   "cell_type": "markdown",
   "metadata": {},
   "source": [
    "In order to train a model able to detect products and missing products we have labelled missing products class for some images from our original dataset. For this we have used a free online tool called Roboflow. \n",
    "We are now goingto donwload the new dataset from our workspace."
   ]
  },
  {
   "cell_type": "code",
   "execution_count": 5,
   "metadata": {},
   "outputs": [],
   "source": [
    "!pip install -q roboflow\n",
    "from roboflow import Roboflow"
   ]
  },
  {
   "cell_type": "code",
   "execution_count": 6,
   "metadata": {},
   "outputs": [
    {
     "name": "stdout",
     "output_type": "stream",
     "text": [
      "loading Roboflow workspace...\n",
      "loading Roboflow project...\n",
      "Downloading Dataset Version Zip in Empty-spaces-in-a-supermarket-hanger-26 to yolov5pytorch: 100% [1477323865 / 1477323865] bytes\n"
     ]
    },
    {
     "name": "stderr",
     "output_type": "stream",
     "text": [
      "Extracting Dataset Version Zip to Empty-spaces-in-a-supermarket-hanger-26 in yolov5pytorch:: 100%|██████████| 4854/4854 [00:09<00:00, 502.83it/s] \n"
     ]
    }
   ],
   "source": [
    "rf = Roboflow(api_key=\"YOUR-API-KEY-HERE\")\n",
    "project = rf.workspace(\"final-project-object-detection-for-instore-inventory-management\").project(\"empty-spaces-in-a-supermarket-hanger-1upsp\")\n",
    "dataset = project.version(26).download(\"yolov5\")"
   ]
  },
  {
   "attachments": {},
   "cell_type": "markdown",
   "metadata": {},
   "source": [
    "Let's move our downdoaled dataset to our new data folder"
   ]
  },
  {
   "cell_type": "code",
   "execution_count": 7,
   "metadata": {},
   "outputs": [],
   "source": [
    "!mv Empty-spaces-in-a-supermarket-hanger-26/ /home/app/src/datav2/"
   ]
  },
  {
   "cell_type": "code",
   "execution_count": 8,
   "metadata": {},
   "outputs": [
    {
     "name": "stdout",
     "output_type": "stream",
     "text": [
      "Overriding model.yaml nc=80 with nc=4\n",
      "\n",
      "                from  n    params  module                                  arguments                     \n",
      "0                -1  1      5280  models.common.Conv                      [3, 48, 6, 2, 2]              \n",
      "1                -1  1     41664  models.common.Conv                      [48, 96, 3, 2]                \n",
      "2                -1  2     65280  models.common.C3                        [96, 96, 2]                   \n",
      "3                -1  1    166272  models.common.Conv                      [96, 192, 3, 2]               \n",
      "4                -1  4    444672  models.common.C3                        [192, 192, 4]                 \n",
      "5                -1  1    664320  models.common.Conv                      [192, 384, 3, 2]              \n",
      "6                -1  6   2512896  models.common.C3                        [384, 384, 6]                 \n",
      "7                -1  1   2655744  models.common.Conv                      [384, 768, 3, 2]              \n",
      "8                -1  2   4134912  models.common.C3                        [768, 768, 2]                 \n",
      "9                -1  1   1476864  models.common.SPPF                      [768, 768, 5]                 \n",
      "10                -1  1    295680  models.common.Conv                      [768, 384, 1, 1]              \n",
      "11                -1  1         0  torch.nn.modules.upsampling.Upsample    [None, 2, 'nearest']          \n",
      "12           [-1, 6]  1         0  models.common.Concat                    [1]                           \n",
      "13                -1  2   1182720  models.common.C3                        [768, 384, 2, False]          \n",
      "14                -1  1     74112  models.common.Conv                      [384, 192, 1, 1]              \n",
      "15                -1  1         0  torch.nn.modules.upsampling.Upsample    [None, 2, 'nearest']          \n",
      "16           [-1, 4]  1         0  models.common.Concat                    [1]                           \n",
      "17                -1  2    296448  models.common.C3                        [384, 192, 2, False]          \n",
      "18                -1  1    332160  models.common.Conv                      [192, 192, 3, 2]              \n",
      "19          [-1, 14]  1         0  models.common.Concat                    [1]                           \n",
      "20                -1  2   1035264  models.common.C3                        [384, 384, 2, False]          \n",
      "21                -1  1   1327872  models.common.Conv                      [384, 384, 3, 2]              \n",
      "22          [-1, 10]  1         0  models.common.Concat                    [1]                           \n",
      "23                -1  2   4134912  models.common.C3                        [768, 768, 2, False]          \n",
      "24      [17, 20, 23]  1     36369  models.yolo.Detect                      [4, [[10, 13, 16, 30, 33, 23], [30, 61, 62, 45, 59, 119], [116, 90, 156, 198, 373, 326]], [192, 384, 768]]\n",
      "Model summary: 291 layers, 20883441 parameters, 20883441 gradients, 48.3 GFLOPs\n",
      "\n",
      "Transferred 475/481 items from yolov5m.pt\n",
      "AMP: checks passed ✅\n",
      "optimizer: SGD(lr=0.01) with parameter groups 79 weight(decay=0.0), 82 weight(decay=0.0005), 82 bias\n",
      "\n",
      "mtrain: /home/app/src/SKU110K_fixed/images_v3/train/labels.cache... 1957 images, 0 backgrounds, 0 corrupt: 100%|██████████| 1957/1957 00:00\n",
      "mtrain: /home/app/src/SKU110K_fixed/images_v3/train/labels.cache... 1957 images, 0 backgrounds, 0 corrupt: 100%|██████████| 1957/1957 00:00\n",
      "\n",
      "val: /home/app/src/SKU110K_fixed/images_v3/valid/labels.cache... 232 images, 0 backgrounds, 0 corrupt: 100%|██████████| 232/232 00:00\n",
      "val: /home/app/src/SKU110K_fixed/images_v3/valid/labels.cache... 232 images, 0 backgrounds, 0 corrupt: 100%|██████████| 232/232 00:00\n",
      "\n",
      "AutoAnchor: 4.83 anchors/target, 0.996 Best Possible Recall (BPR). Current anchors are a good fit to dataset ✅\n",
      "Plotting labels to yolov5/runs/train/exp20/labels.jpg... \n",
      "Image sizes 800 train, 800 val\n",
      "Using 4 dataloader workers\n",
      "Logging results to 1myolov5/runs/train/exp20\n",
      "Starting training for 300 epochs...\n",
      "      Epoch    GPU_mem   box_loss   obj_loss   cls_loss  Instances       Size\n",
      "      0/299      8.66G     0.1004     0.8968    0.02455       1577        800: 100%|██████████| 123/123 10:01\n",
      "                Class     Images  Instances          P          R      mAP50   mAP50-95: 100%|██████████| 8/8 00:30\n",
      "                  all        232      36139      0.227      0.153      0.171     0.0736\n",
      "      Epoch    GPU_mem   box_loss   obj_loss   cls_loss  Instances       Size\n",
      "      1/299      10.5G    0.06802     0.9966   0.009406       2178        800: 100%|██████████| 123/123 08:08\n",
      "                Class     Images  Instances          P          R      mAP50   mAP50-95: 100%|██████████| 8/8 00:30\n",
      "                  all        232      36139      0.329      0.216      0.256       0.12\n",
      "      Epoch    GPU_mem   box_loss   obj_loss   cls_loss  Instances       Size\n",
      "      2/299      10.5G    0.06363     0.9924   0.008278       1599        800: 100%|██████████| 123/123 08:09\n",
      "                Class     Images  Instances          P          R      mAP50   mAP50-95: 100%|██████████| 8/8 00:30\n",
      "                  all        232      36139      0.855      0.232      0.349      0.152\n",
      "      Epoch    GPU_mem   box_loss   obj_loss   cls_loss  Instances       Size\n",
      "      2/299      10.5G    0.06363     0.9924   0.008278       1599        800: 100%|██████████| 123/123 08:09\n",
      "                Class     Images  Instances          P          R      mAP50   mAP50-95: 100%|██████████| 8/8 00:30\n",
      "                  all        232      36139      0.886      0.232      0.346      0.181 \n",
      "      Epoch    GPU_mem   box_loss   obj_loss   cls_loss  Instances       Size \n",
      "      4/299      10.5G    0.05779      0.953   0.007453       1923        800: 100%|██████████| 123/123 08:09 \n",
      "                Class     Images  Instances          P          R      mAP50   mAP50-95: 100%|██████████| 8/8 00:30 \n",
      "                  all        232      36139      0.482      0.347       0.41      0.208\n",
      " \n",
      "              ...\n",
      "\n",
      "      Epoch    GPU_mem   box_loss   obj_loss   cls_loss  Instances       Size\n",
      "    145/299      10.5G    0.03597       0.65   0.001141       1337        800: 100%|██████████| 123/123 08:11\n",
      "                Class     Images  Instances          P          R      mAP50   mAP50-95: 100%|██████████| 8/8 00:17\n",
      "                  all        232      36139      0.868      0.781      0.829      0.503\n",
      "      Epoch    GPU_mem   box_loss   obj_loss   cls_loss  Instances       Size\n",
      "    146/299      10.5G    0.03576     0.6519   0.001185       2208        800: 100%|██████████| 123/123 08:17\n",
      "                Class     Images  Instances          P          R      mAP50   mAP50-95: 100%|██████████| 8/8 00:17\n",
      "                  all        232      36139       0.88      0.775      0.828      0.504\n",
      "      Epoch    GPU_mem   box_loss   obj_loss   cls_loss  Instances       Size\n",
      "    147/299      10.5G    0.03585     0.6483   0.001156       1594        800: 100%|██████████| 123/123 09:07\n",
      "                Class     Images  Instances          P          R      mAP50   mAP50-95: 100%|██████████| 8/8 00:16\n",
      "                  all        232      36139      0.878      0.772      0.825      0.506\n",
      "      Epoch    GPU_mem   box_loss   obj_loss   cls_loss  Instances       Size\n",
      "    148/299      10.5G    0.03571      0.644   0.001159       2071        800: 100%|██████████| 123/123 08:16\n",
      "                Class     Images  Instances          P          R      mAP50   mAP50-95: 100%|██████████| 8/8 00:17\n",
      "                  all        232      36139      0.872      0.783       0.83      0.509\n",
      "      Epoch    GPU_mem   box_loss   obj_loss   cls_loss  Instances       Size\n",
      "    149/299      10.5G    0.03539     0.6384   0.001116       5411        800:  78%|███████▊  | 96/123 06:43\n",
      "Traceback (most recent call last):\n",
      "  File 'yolov5/train.py', line 633, in <module>\n",
      "    mmain(opt) \n",
      "File 'yolov5/train.py', line 527, in main\n",
      "0;31m    train(opt.hyp, opt, device, callbacks)[0;31m \n",
      "  File 'yolov5/train.py', line 333, in train\n",
      "[0;31m    [0;31mpbar.set_description(('%11s' * 2 + '%11.4g' * 5) [0;31m\n",
      "[0;31mKeyboardInterrupt\n"
     ]
    }
   ],
   "source": [
    "!python3 /home/app/yolov5/train.py --img 640 --batch 16 --epochs 300 --data /home/app/src/datav2/data.yaml --weights yolov5m.pt --project /home/app/src/experiments --name exp2"
   ]
  },
  {
   "attachments": {},
   "cell_type": "markdown",
   "metadata": {},
   "source": [
    "After 150 epochs we have a mAP of 0.83 in the validation set"
   ]
  },
  {
   "attachments": {},
   "cell_type": "markdown",
   "metadata": {},
   "source": [
    "Metrics from Validation set\n",
    "![Metrics from Validation set](../resources/exp2graphs.png)"
   ]
  }
 ],
 "metadata": {
  "kernelspec": {
   "display_name": "Python 3",
   "language": "python",
   "name": "python3"
  },
  "language_info": {
   "codemirror_mode": {
    "name": "ipython",
    "version": 3
   },
   "file_extension": ".py",
   "mimetype": "text/x-python",
   "name": "python",
   "nbconvert_exporter": "python",
   "pygments_lexer": "ipython3",
   "version": "3.8.10"
  },
  "orig_nbformat": 4,
  "vscode": {
   "interpreter": {
    "hash": "31f2aee4e71d21fbe5cf8b01ff0e069b9275f58929596ceb00d14d90e3e16cd6"
   }
  }
 },
 "nbformat": 4,
 "nbformat_minor": 2
}
